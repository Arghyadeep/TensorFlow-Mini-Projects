{
 "cells": [
  {
   "cell_type": "code",
   "execution_count": 160,
   "metadata": {},
   "outputs": [],
   "source": [
    "#dependencies\n",
    "import pandas as pd\n",
    "import tensorflow as tf\n",
    "import numpy as np\n",
    "\n",
    "rng= np.random"
   ]
  },
  {
   "cell_type": "code",
   "execution_count": 167,
   "metadata": {},
   "outputs": [],
   "source": [
    "#data importing\n",
    "df =  pd.read_csv(\"data.csv\").as_matrix()\n",
    "X_input = np.asarray(df[:,0])\n",
    "y_input = np.asarray(df[:,1])"
   ]
  },
  {
   "cell_type": "code",
   "execution_count": 168,
   "metadata": {},
   "outputs": [],
   "source": [
    "#parameters\n",
    "X = tf.placeholder(\"float\")\n",
    "y_ = tf.placeholder(\"float\")"
   ]
  },
  {
   "cell_type": "code",
   "execution_count": 184,
   "metadata": {},
   "outputs": [],
   "source": [
    "#weights, bias and cost\n",
    "w = tf.Variable(rng.randn(), name = \"weight\")\n",
    "b = tf.Variable(rng.randn(), name = \"bias\")\n",
    "\n",
    "y = tf.add(tf.multiply(X,w),b)\n",
    "cost = tf.reduce_sum(tf.pow(y - y_,2)/(2*len(X_input))) \n",
    "learning_rate = 0.01\n",
    "num_iters = 1000\n",
    "display_step = 50"
   ]
  },
  {
   "cell_type": "code",
   "execution_count": 185,
   "metadata": {},
   "outputs": [],
   "source": [
    "optimizer = tf.train.AdamOptimizer(learning_rate).minimize(cost)"
   ]
  },
  {
   "cell_type": "code",
   "execution_count": 186,
   "metadata": {},
   "outputs": [],
   "source": [
    "init = tf.global_variables_initializer()\n",
    "sess = tf.Session()\n",
    "sess.run(init)"
   ]
  },
  {
   "cell_type": "code",
   "execution_count": 187,
   "metadata": {},
   "outputs": [
    {
     "name": "stdout",
     "output_type": "stream",
     "text": [
      "Training step: 0000 cost= 2722.375244141\n",
      "Training step: 0050 cost= 55.632564545\n",
      "Training step: 0100 cost= 55.470207214\n",
      "Training step: 0150 cost= 55.301864624\n",
      "Training step: 0200 cost= 55.182651520\n",
      "Training step: 0250 cost= 55.098743439\n",
      "Training step: 0300 cost= 55.039859772\n",
      "Training step: 0350 cost= 54.998680115\n",
      "Training step: 0400 cost= 54.969978333\n",
      "Training step: 0450 cost= 54.950084686\n",
      "Training step: 0500 cost= 54.936355591\n",
      "Training step: 0550 cost= 54.926956177\n",
      "Training step: 0600 cost= 54.920600891\n",
      "Training step: 0650 cost= 54.916332245\n",
      "Training step: 0700 cost= 54.913539886\n",
      "Training step: 0750 cost= 54.911724091\n",
      "Training step: 0800 cost= 54.910572052\n",
      "Training step: 0850 cost= 54.909904480\n",
      "Training step: 0900 cost= 54.909534454\n",
      "Training step: 0950 cost= 54.909362793\n"
     ]
    }
   ],
   "source": [
    "for i in range(num_iters):\n",
    "    for (x,y) in zip(X_input,y_input):\n",
    "        sess.run(optimizer, feed_dict = {X: x, y_: y})\n",
    "    if i%display_step == 0:\n",
    "        cc = sess.run(cost, feed_dict = {X: X_input, y_: y_input})\n",
    "        print(\"Training step:\", '%04d' % (i), \"cost=\", \"{:.9f}\".format(cc))\n"
   ]
  },
  {
   "cell_type": "code",
   "execution_count": null,
   "metadata": {},
   "outputs": [],
   "source": []
  }
 ],
 "metadata": {
  "kernelspec": {
   "display_name": "Python 3",
   "language": "python",
   "name": "python3"
  },
  "language_info": {
   "codemirror_mode": {
    "name": "ipython",
    "version": 3
   },
   "file_extension": ".py",
   "mimetype": "text/x-python",
   "name": "python",
   "nbconvert_exporter": "python",
   "pygments_lexer": "ipython3",
   "version": "3.6.1"
  }
 },
 "nbformat": 4,
 "nbformat_minor": 2
}
